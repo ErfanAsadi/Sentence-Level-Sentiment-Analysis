{
 "cells": [
  {
   "cell_type": "markdown",
   "metadata": {
    "colab_type": "text",
    "id": "I244IgZiiK02"
   },
   "source": [
    "# **Sentence-level Sentiment Analysis**\n",
    "### **Author: Erfan Asadi - 950122680021**\n",
    "This project is the final project of Data Minig Course held in Guilan University in Spring 2020. \n",
    "\n",
    "---\n",
    "\n",
    "\n",
    "\n"
   ]
  },
  {
   "cell_type": "markdown",
   "metadata": {
    "colab_type": "text",
    "id": "GQPvrwc1Vzlt"
   },
   "source": [
    "## **Project Description**\n",
    "The goal of this project is to impelement Sentence level sentiment analysis on Amazon Review Data. We are going to impelement three classifier models.\n",
    "1.   Naive Baysean \n",
    "2.   SVM\n",
    "3. Logistic Regression\n",
    "\n",
    "---\n",
    "\n",
    "\n",
    "\n",
    "\n",
    "\n",
    "\n",
    "    "
   ]
  },
  {
   "cell_type": "markdown",
   "metadata": {
    "colab_type": "text",
    "id": "ghik5pM0WadZ"
   },
   "source": [
    "## **Contents:**\n",
    "\n",
    "\n",
    "*   Libraries & Contants\n",
    "*   Importing the dataset\n",
    "*   Data Pre-processing\n",
    "*   Data Splitting\n",
    "*   Classification \n",
    "  *  Naive Baysean \n",
    "  *  SVM\n",
    "  *  Logistic Regression\n",
    "*   Model Evaluation\n",
    "*   Model Illustration\n",
    "\n",
    "\n",
    "\n",
    "---\n",
    "\n",
    "\n"
   ]
  },
  {
   "cell_type": "markdown",
   "metadata": {
    "colab_type": "text",
    "id": "P8e4gZEdXdGb"
   },
   "source": [
    "### **Libraries & Contants**"
   ]
  },
  {
   "cell_type": "markdown",
   "metadata": {
    "colab_type": "text",
    "id": "rDYFaoKcdChU"
   },
   "source": [
    "**Installing Bert**"
   ]
  },
  {
   "cell_type": "code",
   "execution_count": 1,
   "metadata": {
    "colab": {
     "base_uri": "https://localhost:8080/",
     "height": 595
    },
    "colab_type": "code",
    "id": "3biKE0hwc0T6",
    "outputId": "a97fe72c-9566-44a2-804d-3331053e605c"
   },
   "outputs": [
    {
     "name": "stdout",
     "output_type": "stream",
     "text": [
      "Collecting transformers\n",
      "\u001b[?25l  Downloading https://files.pythonhosted.org/packages/27/3c/91ed8f5c4e7ef3227b4119200fc0ed4b4fd965b1f0172021c25701087825/transformers-3.0.2-py3-none-any.whl (769kB)\n",
      "\u001b[K     |████████████████████████████████| 778kB 3.4MB/s \n",
      "\u001b[?25hRequirement already satisfied: packaging in /usr/local/lib/python3.6/dist-packages (from transformers) (20.4)\n",
      "Collecting sacremoses\n",
      "\u001b[?25l  Downloading https://files.pythonhosted.org/packages/7d/34/09d19aff26edcc8eb2a01bed8e98f13a1537005d31e95233fd48216eed10/sacremoses-0.0.43.tar.gz (883kB)\n",
      "\u001b[K     |████████████████████████████████| 890kB 17.0MB/s \n",
      "\u001b[?25hRequirement already satisfied: numpy in /usr/local/lib/python3.6/dist-packages (from transformers) (1.18.5)\n",
      "Collecting sentencepiece!=0.1.92\n",
      "\u001b[?25l  Downloading https://files.pythonhosted.org/packages/d4/a4/d0a884c4300004a78cca907a6ff9a5e9fe4f090f5d95ab341c53d28cbc58/sentencepiece-0.1.91-cp36-cp36m-manylinux1_x86_64.whl (1.1MB)\n",
      "\u001b[K     |████████████████████████████████| 1.1MB 21.0MB/s \n",
      "\u001b[?25hRequirement already satisfied: dataclasses; python_version < \"3.7\" in /usr/local/lib/python3.6/dist-packages (from transformers) (0.7)\n",
      "Collecting tokenizers==0.8.1.rc1\n",
      "\u001b[?25l  Downloading https://files.pythonhosted.org/packages/40/d0/30d5f8d221a0ed981a186c8eb986ce1c94e3a6e87f994eae9f4aa5250217/tokenizers-0.8.1rc1-cp36-cp36m-manylinux1_x86_64.whl (3.0MB)\n",
      "\u001b[K     |████████████████████████████████| 3.0MB 36.2MB/s \n",
      "\u001b[?25hRequirement already satisfied: filelock in /usr/local/lib/python3.6/dist-packages (from transformers) (3.0.12)\n",
      "Requirement already satisfied: tqdm>=4.27 in /usr/local/lib/python3.6/dist-packages (from transformers) (4.41.1)\n",
      "Requirement already satisfied: requests in /usr/local/lib/python3.6/dist-packages (from transformers) (2.23.0)\n",
      "Requirement already satisfied: regex!=2019.12.17 in /usr/local/lib/python3.6/dist-packages (from transformers) (2019.12.20)\n",
      "Requirement already satisfied: six in /usr/local/lib/python3.6/dist-packages (from packaging->transformers) (1.12.0)\n",
      "Requirement already satisfied: pyparsing>=2.0.2 in /usr/local/lib/python3.6/dist-packages (from packaging->transformers) (2.4.7)\n",
      "Requirement already satisfied: click in /usr/local/lib/python3.6/dist-packages (from sacremoses->transformers) (7.1.2)\n",
      "Requirement already satisfied: joblib in /usr/local/lib/python3.6/dist-packages (from sacremoses->transformers) (0.16.0)\n",
      "Requirement already satisfied: idna<3,>=2.5 in /usr/local/lib/python3.6/dist-packages (from requests->transformers) (2.10)\n",
      "Requirement already satisfied: chardet<4,>=3.0.2 in /usr/local/lib/python3.6/dist-packages (from requests->transformers) (3.0.4)\n",
      "Requirement already satisfied: certifi>=2017.4.17 in /usr/local/lib/python3.6/dist-packages (from requests->transformers) (2020.6.20)\n",
      "Requirement already satisfied: urllib3!=1.25.0,!=1.25.1,<1.26,>=1.21.1 in /usr/local/lib/python3.6/dist-packages (from requests->transformers) (1.24.3)\n",
      "Building wheels for collected packages: sacremoses\n",
      "  Building wheel for sacremoses (setup.py) ... \u001b[?25l\u001b[?25hdone\n",
      "  Created wheel for sacremoses: filename=sacremoses-0.0.43-cp36-none-any.whl size=893260 sha256=ec69d1b9d2a37a0980eb404f5d20869f9239b70b199dc26a12f12d77b690bcf1\n",
      "  Stored in directory: /root/.cache/pip/wheels/29/3c/fd/7ce5c3f0666dab31a50123635e6fb5e19ceb42ce38d4e58f45\n",
      "Successfully built sacremoses\n",
      "Installing collected packages: sacremoses, sentencepiece, tokenizers, transformers\n",
      "Successfully installed sacremoses-0.0.43 sentencepiece-0.1.91 tokenizers-0.8.1rc1 transformers-3.0.2\n"
     ]
    }
   ],
   "source": [
    "!pip install transformers"
   ]
  },
  {
   "cell_type": "code",
   "execution_count": 2,
   "metadata": {
    "colab": {
     "base_uri": "https://localhost:8080/",
     "height": 51
    },
    "colab_type": "code",
    "id": "oyBdw9NZixOP",
    "outputId": "0a7666e3-d3df-413f-9289-691ba240fc75"
   },
   "outputs": [
    {
     "name": "stderr",
     "output_type": "stream",
     "text": [
      "/usr/local/lib/python3.6/dist-packages/statsmodels/tools/_testing.py:19: FutureWarning: pandas.util.testing is deprecated. Use the functions in the public API at pandas.testing instead.\n",
      "  import pandas.util.testing as tm\n"
     ]
    }
   ],
   "source": [
    "import gzip\n",
    "import json\n",
    "\n",
    "import nltk\n",
    "from nltk.corpus import stopwords\n",
    "from nltk.tokenize import word_tokenize\n",
    "from nltk.stem import PorterStemmer    \n",
    " \n",
    "from transformers import BertTokenizer\n",
    "\n",
    "%matplotlib inline\n",
    "import numpy as np \n",
    "import pandas as pd\n",
    "import seaborn as sns \n",
    "import matplotlib.pyplot as plt\n",
    "\n",
    "from sklearn.model_selection import train_test_split\n",
    "from sklearn.naive_bayes import GaussianNB\n",
    "from sklearn.linear_model import LogisticRegression\n",
    "from sklearn.ensemble import BaggingClassifier\n",
    "from sklearn.svm import SVC\n",
    "from sklearn.metrics import precision_recall_fscore_support\n",
    "from sklearn import metrics\n",
    "from sklearn.multiclass import OneVsRestClassifier\n",
    "from sklearn.ensemble import BaggingClassifier"
   ]
  },
  {
   "cell_type": "markdown",
   "metadata": {
    "colab_type": "text",
    "id": "ii0HO2yqbj94"
   },
   "source": [
    "**Downloading extra files**\n",
    "> Downloading stopwords...\n"
   ]
  },
  {
   "cell_type": "code",
   "execution_count": 3,
   "metadata": {
    "colab": {
     "base_uri": "https://localhost:8080/",
     "height": 68
    },
    "colab_type": "code",
    "id": "XDbT3nOlp24K",
    "outputId": "5e134660-b994-4647-e328-1a1159e0fd52"
   },
   "outputs": [
    {
     "name": "stdout",
     "output_type": "stream",
     "text": [
      "[nltk_data] Downloading package stopwords to /root/nltk_data...\n",
      "[nltk_data]   Unzipping corpora/stopwords.zip.\n"
     ]
    },
    {
     "data": {
      "text/plain": [
       "True"
      ]
     },
     "execution_count": 3,
     "metadata": {
      "tags": []
     },
     "output_type": "execute_result"
    }
   ],
   "source": [
    "# Download the nltk stopwords to customie later \n",
    "nltk.download(\"stopwords\")"
   ]
  },
  {
   "cell_type": "markdown",
   "metadata": {
    "colab_type": "text",
    "id": "CcMRmUojtw92"
   },
   "source": [
    "\n",
    "\n",
    "---\n",
    "\n",
    "\n",
    "\n",
    "---\n",
    "\n",
    "\n",
    "## **Importing the DS**\n",
    "In this step, we first load the zip file and unzip it with using gzip library and then read the json file and make a DataFrame of it using pandas library and then show the top 5 records."
   ]
  },
  {
   "cell_type": "markdown",
   "metadata": {
    "colab_type": "text",
    "id": "ylnkdi9VYwHi"
   },
   "source": [
    "**1. Download the database using WGET**"
   ]
  },
  {
   "cell_type": "code",
   "execution_count": 4,
   "metadata": {
    "colab": {
     "base_uri": "https://localhost:8080/",
     "height": 204
    },
    "colab_type": "code",
    "id": "GSkywkR2ULTi",
    "outputId": "c4bc05ac-2000-4701-abf2-7d37277fb3af"
   },
   "outputs": [
    {
     "name": "stdout",
     "output_type": "stream",
     "text": [
      "--2020-07-19 08:29:26--  http://deepyeti.ucsd.edu/jianmo/amazon/categoryFilesSmall/Musical_Instruments_5.json.gz\n",
      "Resolving deepyeti.ucsd.edu (deepyeti.ucsd.edu)... 169.228.63.50\n",
      "Connecting to deepyeti.ucsd.edu (deepyeti.ucsd.edu)|169.228.63.50|:80... connected.\n",
      "HTTP request sent, awaiting response... 200 OK\n",
      "Length: 39356138 (38M) [application/octet-stream]\n",
      "Saving to: ‘Musical_Instruments_5.json.gz’\n",
      "\n",
      "Musical_Instruments 100%[===================>]  37.53M  49.5MB/s    in 0.8s    \n",
      "\n",
      "2020-07-19 08:29:27 (49.5 MB/s) - ‘Musical_Instruments_5.json.gz’ saved [39356138/39356138]\n",
      "\n"
     ]
    }
   ],
   "source": [
    "!wget \"http://deepyeti.ucsd.edu/jianmo/amazon/categoryFilesSmall/Musical_Instruments_5.json.gz\""
   ]
  },
  {
   "cell_type": "markdown",
   "metadata": {
    "colab_type": "text",
    "id": "wSKA_r1-ZYqa"
   },
   "source": [
    "**2. Unzipping the downloaded Dataset and put it in a pandas dataframe**"
   ]
  },
  {
   "cell_type": "code",
   "execution_count": 5,
   "metadata": {
    "colab": {},
    "colab_type": "code",
    "id": "Hq0BIwbHU7Y4"
   },
   "outputs": [],
   "source": [
    "# Step 1 : Reading the file from system \n",
    "def parse(path):\n",
    "  g = gzip.open(path, 'rb')\n",
    "  for l in g:\n",
    "    yield json.loads(l)\n",
    "\n",
    "# Step 2: Convert the file to a DataFrame \n",
    "def getDF(path):\n",
    "  i = 0\n",
    "  df = {}\n",
    "  for d in parse(path):\n",
    "    df[i] = d\n",
    "    i += 1\n",
    "  return pd.DataFrame.from_dict(df, orient='index')\n",
    "\n",
    "\n",
    "df = getDF('Musical_Instruments_5.json.gz')"
   ]
  },
  {
   "cell_type": "code",
   "execution_count": 6,
   "metadata": {
    "colab": {
     "base_uri": "https://localhost:8080/",
     "height": 204
    },
    "colab_type": "code",
    "id": "hRkJlUuuZDWo",
    "outputId": "f1c40a13-6ae3-4cf9-93e5-1d09bfcaf29b"
   },
   "outputs": [
    {
     "data": {
      "text/html": [
       "<div>\n",
       "<style scoped>\n",
       "    .dataframe tbody tr th:only-of-type {\n",
       "        vertical-align: middle;\n",
       "    }\n",
       "\n",
       "    .dataframe tbody tr th {\n",
       "        vertical-align: top;\n",
       "    }\n",
       "\n",
       "    .dataframe thead th {\n",
       "        text-align: right;\n",
       "    }\n",
       "</style>\n",
       "<table border=\"1\" class=\"dataframe\">\n",
       "  <thead>\n",
       "    <tr style=\"text-align: right;\">\n",
       "      <th></th>\n",
       "      <th>overall</th>\n",
       "      <th>verified</th>\n",
       "      <th>reviewTime</th>\n",
       "      <th>reviewerID</th>\n",
       "      <th>asin</th>\n",
       "      <th>reviewerName</th>\n",
       "      <th>reviewText</th>\n",
       "      <th>summary</th>\n",
       "      <th>unixReviewTime</th>\n",
       "      <th>vote</th>\n",
       "      <th>style</th>\n",
       "      <th>image</th>\n",
       "    </tr>\n",
       "  </thead>\n",
       "  <tbody>\n",
       "    <tr>\n",
       "      <th>0</th>\n",
       "      <td>5.0</td>\n",
       "      <td>True</td>\n",
       "      <td>10 30, 2016</td>\n",
       "      <td>A3FO5AKVTFRCRJ</td>\n",
       "      <td>0739079891</td>\n",
       "      <td>francisco</td>\n",
       "      <td>It's good for beginners</td>\n",
       "      <td>Five Stars</td>\n",
       "      <td>1477785600</td>\n",
       "      <td>NaN</td>\n",
       "      <td>NaN</td>\n",
       "      <td>NaN</td>\n",
       "    </tr>\n",
       "    <tr>\n",
       "      <th>1</th>\n",
       "      <td>5.0</td>\n",
       "      <td>True</td>\n",
       "      <td>06 30, 2016</td>\n",
       "      <td>A3UCGC1DHFMBCE</td>\n",
       "      <td>0739079891</td>\n",
       "      <td>Eb Jack Murray</td>\n",
       "      <td>I recommend this starter Ukulele kit.  I has e...</td>\n",
       "      <td>Five Stars</td>\n",
       "      <td>1467244800</td>\n",
       "      <td>NaN</td>\n",
       "      <td>NaN</td>\n",
       "      <td>NaN</td>\n",
       "    </tr>\n",
       "    <tr>\n",
       "      <th>2</th>\n",
       "      <td>5.0</td>\n",
       "      <td>True</td>\n",
       "      <td>05 9, 2016</td>\n",
       "      <td>A2S9SLRYLPGYZB</td>\n",
       "      <td>0739079891</td>\n",
       "      <td>Clara LaMarr</td>\n",
       "      <td>G'daughter received this for Christmas present...</td>\n",
       "      <td>Learning new songs to play regularly</td>\n",
       "      <td>1462752000</td>\n",
       "      <td>NaN</td>\n",
       "      <td>NaN</td>\n",
       "      <td>NaN</td>\n",
       "    </tr>\n",
       "    <tr>\n",
       "      <th>3</th>\n",
       "      <td>4.0</td>\n",
       "      <td>True</td>\n",
       "      <td>04 10, 2016</td>\n",
       "      <td>A15RTJWPG8OKOE</td>\n",
       "      <td>0739079891</td>\n",
       "      <td>Eagle80</td>\n",
       "      <td>According to my order history, I bought this t...</td>\n",
       "      <td>A bargain-bin good-enough ukulele that's held ...</td>\n",
       "      <td>1460246400</td>\n",
       "      <td>NaN</td>\n",
       "      <td>NaN</td>\n",
       "      <td>NaN</td>\n",
       "    </tr>\n",
       "    <tr>\n",
       "      <th>4</th>\n",
       "      <td>1.0</td>\n",
       "      <td>True</td>\n",
       "      <td>02 6, 2016</td>\n",
       "      <td>A12ET1WO3OAVU7</td>\n",
       "      <td>0739079891</td>\n",
       "      <td>Amazon Customer</td>\n",
       "      <td>Please pay attention better than I did to the ...</td>\n",
       "      <td>Poor Quality product.</td>\n",
       "      <td>1454716800</td>\n",
       "      <td>NaN</td>\n",
       "      <td>NaN</td>\n",
       "      <td>NaN</td>\n",
       "    </tr>\n",
       "  </tbody>\n",
       "</table>\n",
       "</div>"
      ],
      "text/plain": [
       "   overall  verified   reviewTime  ... vote style image\n",
       "0      5.0      True  10 30, 2016  ...  NaN   NaN   NaN\n",
       "1      5.0      True  06 30, 2016  ...  NaN   NaN   NaN\n",
       "2      5.0      True   05 9, 2016  ...  NaN   NaN   NaN\n",
       "3      4.0      True  04 10, 2016  ...  NaN   NaN   NaN\n",
       "4      1.0      True   02 6, 2016  ...  NaN   NaN   NaN\n",
       "\n",
       "[5 rows x 12 columns]"
      ]
     },
     "execution_count": 6,
     "metadata": {
      "tags": []
     },
     "output_type": "execute_result"
    }
   ],
   "source": [
    "df.head()"
   ]
  },
  {
   "cell_type": "markdown",
   "metadata": {
    "colab_type": "text",
    "id": "91s3zlBZZ0p5"
   },
   "source": [
    "\n",
    "\n",
    "---\n",
    "\n",
    "\n",
    "\n",
    "---\n",
    "\n",
    "\n",
    "\n",
    "## **Data Pre-processing**\n",
    "In this part, we will remove the extra features and keep just two usefull feature and then will remove stopwords."
   ]
  },
  {
   "cell_type": "markdown",
   "metadata": {
    "colab_type": "text",
    "id": "fF28wIISaipA"
   },
   "source": [
    "**1. Removing extra features**"
   ]
  },
  {
   "cell_type": "code",
   "execution_count": 7,
   "metadata": {
    "colab": {
     "base_uri": "https://localhost:8080/",
     "height": 204
    },
    "colab_type": "code",
    "id": "EOj7WZyGZ31-",
    "outputId": "0038c109-046f-4a0d-fb13-f2753b769697"
   },
   "outputs": [
    {
     "data": {
      "text/html": [
       "<div>\n",
       "<style scoped>\n",
       "    .dataframe tbody tr th:only-of-type {\n",
       "        vertical-align: middle;\n",
       "    }\n",
       "\n",
       "    .dataframe tbody tr th {\n",
       "        vertical-align: top;\n",
       "    }\n",
       "\n",
       "    .dataframe thead th {\n",
       "        text-align: right;\n",
       "    }\n",
       "</style>\n",
       "<table border=\"1\" class=\"dataframe\">\n",
       "  <thead>\n",
       "    <tr style=\"text-align: right;\">\n",
       "      <th></th>\n",
       "      <th>overall</th>\n",
       "      <th>reviewText</th>\n",
       "    </tr>\n",
       "  </thead>\n",
       "  <tbody>\n",
       "    <tr>\n",
       "      <th>0</th>\n",
       "      <td>5.0</td>\n",
       "      <td>It's good for beginners</td>\n",
       "    </tr>\n",
       "    <tr>\n",
       "      <th>1</th>\n",
       "      <td>5.0</td>\n",
       "      <td>I recommend this starter Ukulele kit.  I has e...</td>\n",
       "    </tr>\n",
       "    <tr>\n",
       "      <th>2</th>\n",
       "      <td>5.0</td>\n",
       "      <td>G'daughter received this for Christmas present...</td>\n",
       "    </tr>\n",
       "    <tr>\n",
       "      <th>3</th>\n",
       "      <td>4.0</td>\n",
       "      <td>According to my order history, I bought this t...</td>\n",
       "    </tr>\n",
       "    <tr>\n",
       "      <th>4</th>\n",
       "      <td>1.0</td>\n",
       "      <td>Please pay attention better than I did to the ...</td>\n",
       "    </tr>\n",
       "  </tbody>\n",
       "</table>\n",
       "</div>"
      ],
      "text/plain": [
       "   overall                                         reviewText\n",
       "0      5.0                            It's good for beginners\n",
       "1      5.0  I recommend this starter Ukulele kit.  I has e...\n",
       "2      5.0  G'daughter received this for Christmas present...\n",
       "3      4.0  According to my order history, I bought this t...\n",
       "4      1.0  Please pay attention better than I did to the ..."
      ]
     },
     "execution_count": 7,
     "metadata": {
      "tags": []
     },
     "output_type": "execute_result"
    }
   ],
   "source": [
    "# Removing extra features \n",
    "df = df.loc[:, ['overall','reviewText']]\n",
    "df.head()"
   ]
  },
  {
   "cell_type": "markdown",
   "metadata": {
    "colab_type": "text",
    "id": "NNzOYWj5atjR"
   },
   "source": [
    "**2. Creating the customized stop words**\n",
    "\n",
    "> In this part , we have to create our customized stop words, beacuase our task is sentiment analysis and we mustn't renove the negations.\n",
    "\n",
    "\n"
   ]
  },
  {
   "cell_type": "code",
   "execution_count": 8,
   "metadata": {
    "colab": {},
    "colab_type": "code",
    "id": "bIEa4bRUZ-9K"
   },
   "outputs": [],
   "source": [
    "#  making my custom stopwords from nltk stopwords \n",
    "negative_stopwords = ['aren', \"aren't\", 'couldn', \"couldn't\", 'didn', \"didn't\", 'doesn', \"doesn't\", 'don', \"don't\",'hadn',\n",
    "                      \"hadn't\", 'hasn',\"hasn't\", 'haven', \"haven't\", 'isn', \"isn't\", 'mightn', \"mightn't\", 'mustn',\"mustn't\",\n",
    "                     'needn', \"needn't\", 'no', 'nor', 'not', 'shan', \"shan't\", 'shouldn', \"shouldn't\",  'wasn', \"wasn't\" ,'weren',\n",
    "                     \"weren't\", \"won't\", 'wouldn', \"wouldn't\"]\n",
    "new_stopwords = set(stopwords.words('english'))-{i for i in negative_stopwords}"
   ]
  },
  {
   "cell_type": "markdown",
   "metadata": {
    "colab_type": "text",
    "id": "0lZvNaY5eSoa"
   },
   "source": [
    "**3. Removing the stopwords**"
   ]
  },
  {
   "cell_type": "code",
   "execution_count": 9,
   "metadata": {
    "colab": {
     "base_uri": "https://localhost:8080/",
     "height": 204
    },
    "colab_type": "code",
    "id": "ObrEoPO7eO3h",
    "outputId": "a94d6f93-8f42-45e0-a144-7b3b4f586124"
   },
   "outputs": [
    {
     "data": {
      "text/html": [
       "<div>\n",
       "<style scoped>\n",
       "    .dataframe tbody tr th:only-of-type {\n",
       "        vertical-align: middle;\n",
       "    }\n",
       "\n",
       "    .dataframe tbody tr th {\n",
       "        vertical-align: top;\n",
       "    }\n",
       "\n",
       "    .dataframe thead th {\n",
       "        text-align: right;\n",
       "    }\n",
       "</style>\n",
       "<table border=\"1\" class=\"dataframe\">\n",
       "  <thead>\n",
       "    <tr style=\"text-align: right;\">\n",
       "      <th></th>\n",
       "      <th>overall</th>\n",
       "      <th>reviewText</th>\n",
       "      <th>removedSW</th>\n",
       "    </tr>\n",
       "  </thead>\n",
       "  <tbody>\n",
       "    <tr>\n",
       "      <th>0</th>\n",
       "      <td>5.0</td>\n",
       "      <td>It's good for beginners</td>\n",
       "      <td>[good, beginners]</td>\n",
       "    </tr>\n",
       "    <tr>\n",
       "      <th>1</th>\n",
       "      <td>5.0</td>\n",
       "      <td>I recommend this starter Ukulele kit.  I has e...</td>\n",
       "      <td>[recommend, starter, ukulele, kit., everything...</td>\n",
       "    </tr>\n",
       "    <tr>\n",
       "      <th>2</th>\n",
       "      <td>5.0</td>\n",
       "      <td>G'daughter received this for Christmas present...</td>\n",
       "      <td>[g'daughter, received, christmas, present, las...</td>\n",
       "    </tr>\n",
       "    <tr>\n",
       "      <th>3</th>\n",
       "      <td>4.0</td>\n",
       "      <td>According to my order history, I bought this t...</td>\n",
       "      <td>[according, order, history,, bought, kit, towa...</td>\n",
       "    </tr>\n",
       "    <tr>\n",
       "      <th>4</th>\n",
       "      <td>1.0</td>\n",
       "      <td>Please pay attention better than I did to the ...</td>\n",
       "      <td>[please, pay, attention, better, reviews!, poo...</td>\n",
       "    </tr>\n",
       "  </tbody>\n",
       "</table>\n",
       "</div>"
      ],
      "text/plain": [
       "   overall  ...                                          removedSW\n",
       "0      5.0  ...                                  [good, beginners]\n",
       "1      5.0  ...  [recommend, starter, ukulele, kit., everything...\n",
       "2      5.0  ...  [g'daughter, received, christmas, present, las...\n",
       "3      4.0  ...  [according, order, history,, bought, kit, towa...\n",
       "4      1.0  ...  [please, pay, attention, better, reviews!, poo...\n",
       "\n",
       "[5 rows x 3 columns]"
      ]
     },
     "execution_count": 9,
     "metadata": {
      "tags": []
     },
     "output_type": "execute_result"
    }
   ],
   "source": [
    "# drop nan records \n",
    "df.dropna(how=\"any\",inplace = True)\n",
    "\n",
    "\n",
    "# Re-indexing the dataframe \n",
    "df = df.reset_index().drop('index', axis = 1)\n",
    "\n",
    "df['removedSW'] = df['reviewText'].apply(lambda x: [item for item in x.lower().split() if item not in new_stopwords])\n",
    "df.head()"
   ]
  },
  {
   "cell_type": "markdown",
   "metadata": {
    "colab_type": "text",
    "id": "Bt_hf20Tban3"
   },
   "source": [
    "**4. Removing the null records**"
   ]
  },
  {
   "cell_type": "code",
   "execution_count": 10,
   "metadata": {
    "colab": {},
    "colab_type": "code",
    "id": "3YGB9SJucJo5"
   },
   "outputs": [],
   "source": [
    "# drop records with [] removedSW\n",
    "for i in range(len(df.removedSW)):\n",
    "  if df.removedSW[i] == []: \n",
    "    df.drop(index=i, inplace=True)\n",
    "\n",
    "# Re-indexing the dataframe \n",
    "df = df.reset_index().drop('index', axis = 1)\n"
   ]
  },
  {
   "cell_type": "markdown",
   "metadata": {
    "colab_type": "text",
    "id": "aYl3r3Oz16Pf"
   },
   "source": [
    "**5. Normalizing the tokens (Stemming)**"
   ]
  },
  {
   "cell_type": "code",
   "execution_count": 11,
   "metadata": {
    "colab": {
     "base_uri": "https://localhost:8080/",
     "height": 204
    },
    "colab_type": "code",
    "id": "eHfBaPWe2Dxa",
    "outputId": "f648195d-04f5-4adc-8528-58274f1b712d"
   },
   "outputs": [
    {
     "data": {
      "text/html": [
       "<div>\n",
       "<style scoped>\n",
       "    .dataframe tbody tr th:only-of-type {\n",
       "        vertical-align: middle;\n",
       "    }\n",
       "\n",
       "    .dataframe tbody tr th {\n",
       "        vertical-align: top;\n",
       "    }\n",
       "\n",
       "    .dataframe thead th {\n",
       "        text-align: right;\n",
       "    }\n",
       "</style>\n",
       "<table border=\"1\" class=\"dataframe\">\n",
       "  <thead>\n",
       "    <tr style=\"text-align: right;\">\n",
       "      <th></th>\n",
       "      <th>overall</th>\n",
       "      <th>reviewText</th>\n",
       "      <th>removedSW</th>\n",
       "      <th>normalized</th>\n",
       "    </tr>\n",
       "  </thead>\n",
       "  <tbody>\n",
       "    <tr>\n",
       "      <th>0</th>\n",
       "      <td>5.0</td>\n",
       "      <td>It's good for beginners</td>\n",
       "      <td>[good, beginners]</td>\n",
       "      <td>[good, beginn]</td>\n",
       "    </tr>\n",
       "    <tr>\n",
       "      <th>1</th>\n",
       "      <td>5.0</td>\n",
       "      <td>I recommend this starter Ukulele kit.  I has e...</td>\n",
       "      <td>[recommend, starter, ukulele, kit., everything...</td>\n",
       "      <td>[recommend, starter, ukulel, kit., everyth, ne...</td>\n",
       "    </tr>\n",
       "    <tr>\n",
       "      <th>2</th>\n",
       "      <td>5.0</td>\n",
       "      <td>G'daughter received this for Christmas present...</td>\n",
       "      <td>[g'daughter, received, christmas, present, las...</td>\n",
       "      <td>[g'daughter, receiv, christma, present, last, ...</td>\n",
       "    </tr>\n",
       "    <tr>\n",
       "      <th>3</th>\n",
       "      <td>4.0</td>\n",
       "      <td>According to my order history, I bought this t...</td>\n",
       "      <td>[according, order, history,, bought, kit, towa...</td>\n",
       "      <td>[accord, order, history,, bought, kit, toward,...</td>\n",
       "    </tr>\n",
       "    <tr>\n",
       "      <th>4</th>\n",
       "      <td>1.0</td>\n",
       "      <td>Please pay attention better than I did to the ...</td>\n",
       "      <td>[please, pay, attention, better, reviews!, poo...</td>\n",
       "      <td>[pleas, pay, attent, better, reviews!, poor, q...</td>\n",
       "    </tr>\n",
       "  </tbody>\n",
       "</table>\n",
       "</div>"
      ],
      "text/plain": [
       "   overall  ...                                         normalized\n",
       "0      5.0  ...                                     [good, beginn]\n",
       "1      5.0  ...  [recommend, starter, ukulel, kit., everyth, ne...\n",
       "2      5.0  ...  [g'daughter, receiv, christma, present, last, ...\n",
       "3      4.0  ...  [accord, order, history,, bought, kit, toward,...\n",
       "4      1.0  ...  [pleas, pay, attent, better, reviews!, poor, q...\n",
       "\n",
       "[5 rows x 4 columns]"
      ]
     },
     "execution_count": 11,
     "metadata": {
      "tags": []
     },
     "output_type": "execute_result"
    }
   ],
   "source": [
    "ps = PorterStemmer() \n",
    "  \n",
    "# choose some words to be stemmed \n",
    "df['normalized'] = df['removedSW'].apply(lambda x: [ps.stem(item) for item in x])\n",
    "df.head()"
   ]
  },
  {
   "cell_type": "markdown",
   "metadata": {
    "colab_type": "text",
    "id": "6lquTeTzFe2l"
   },
   "source": [
    "**6. Removing the repetetive words in one review.**\n",
    ">Making a bag of non-repetetive word for sentiment analysis. \n"
   ]
  },
  {
   "cell_type": "code",
   "execution_count": 12,
   "metadata": {
    "colab": {
     "base_uri": "https://localhost:8080/",
     "height": 204
    },
    "colab_type": "code",
    "id": "-uj_0O1H7BeI",
    "outputId": "99f180d5-2524-4f82-ecae-074917e869d4"
   },
   "outputs": [
    {
     "data": {
      "text/html": [
       "<div>\n",
       "<style scoped>\n",
       "    .dataframe tbody tr th:only-of-type {\n",
       "        vertical-align: middle;\n",
       "    }\n",
       "\n",
       "    .dataframe tbody tr th {\n",
       "        vertical-align: top;\n",
       "    }\n",
       "\n",
       "    .dataframe thead th {\n",
       "        text-align: right;\n",
       "    }\n",
       "</style>\n",
       "<table border=\"1\" class=\"dataframe\">\n",
       "  <thead>\n",
       "    <tr style=\"text-align: right;\">\n",
       "      <th></th>\n",
       "      <th>overall</th>\n",
       "      <th>reviewText</th>\n",
       "      <th>removedSW</th>\n",
       "      <th>normalized</th>\n",
       "      <th>preprocessed</th>\n",
       "    </tr>\n",
       "  </thead>\n",
       "  <tbody>\n",
       "    <tr>\n",
       "      <th>0</th>\n",
       "      <td>5.0</td>\n",
       "      <td>It's good for beginners</td>\n",
       "      <td>[good, beginners]</td>\n",
       "      <td>[good, beginn]</td>\n",
       "      <td>[good, beginn]</td>\n",
       "    </tr>\n",
       "    <tr>\n",
       "      <th>1</th>\n",
       "      <td>5.0</td>\n",
       "      <td>I recommend this starter Ukulele kit.  I has e...</td>\n",
       "      <td>[recommend, starter, ukulele, kit., everything...</td>\n",
       "      <td>[recommend, starter, ukulel, kit., everyth, ne...</td>\n",
       "      <td>[recommend, starter, ukulel, kit., everyth, ne...</td>\n",
       "    </tr>\n",
       "    <tr>\n",
       "      <th>2</th>\n",
       "      <td>5.0</td>\n",
       "      <td>G'daughter received this for Christmas present...</td>\n",
       "      <td>[g'daughter, received, christmas, present, las...</td>\n",
       "      <td>[g'daughter, receiv, christma, present, last, ...</td>\n",
       "      <td>[g'daughter, receiv, christma, present, last, ...</td>\n",
       "    </tr>\n",
       "    <tr>\n",
       "      <th>3</th>\n",
       "      <td>4.0</td>\n",
       "      <td>According to my order history, I bought this t...</td>\n",
       "      <td>[according, order, history,, bought, kit, towa...</td>\n",
       "      <td>[accord, order, history,, bought, kit, toward,...</td>\n",
       "      <td>[accord, order, history,, bought, kit, toward,...</td>\n",
       "    </tr>\n",
       "    <tr>\n",
       "      <th>4</th>\n",
       "      <td>1.0</td>\n",
       "      <td>Please pay attention better than I did to the ...</td>\n",
       "      <td>[please, pay, attention, better, reviews!, poo...</td>\n",
       "      <td>[pleas, pay, attent, better, reviews!, poor, q...</td>\n",
       "      <td>[pleas, pay, attent, better, reviews!, poor, q...</td>\n",
       "    </tr>\n",
       "  </tbody>\n",
       "</table>\n",
       "</div>"
      ],
      "text/plain": [
       "   overall  ...                                       preprocessed\n",
       "0      5.0  ...                                     [good, beginn]\n",
       "1      5.0  ...  [recommend, starter, ukulel, kit., everyth, ne...\n",
       "2      5.0  ...  [g'daughter, receiv, christma, present, last, ...\n",
       "3      4.0  ...  [accord, order, history,, bought, kit, toward,...\n",
       "4      1.0  ...  [pleas, pay, attent, better, reviews!, poor, q...\n",
       "\n",
       "[5 rows x 5 columns]"
      ]
     },
     "execution_count": 12,
     "metadata": {
      "tags": []
     },
     "output_type": "execute_result"
    }
   ],
   "source": [
    "df['preprocessed'] = df['normalized'].apply(lambda x: [i for n, i in enumerate(x) if i not in x[:n]])\n",
    "df.head()"
   ]
  },
  {
   "cell_type": "markdown",
   "metadata": {
    "colab_type": "text",
    "id": "7PivUtYpufeR"
   },
   "source": [
    "\n",
    "\n",
    "---\n",
    "\n",
    "\n",
    "\n",
    "---\n",
    "\n",
    "## **Word Embedding**\n",
    "In this section, we are going to map the words to vectors for making a model in next section . "
   ]
  },
  {
   "cell_type": "markdown",
   "metadata": {
    "colab_type": "text",
    "id": "ir6ywy35o_iA"
   },
   "source": [
    "**1. Splitting  X and y**"
   ]
  },
  {
   "cell_type": "code",
   "execution_count": 13,
   "metadata": {
    "colab": {},
    "colab_type": "code",
    "id": "17_u-fN9egLP"
   },
   "outputs": [],
   "source": [
    "# Splitting  X and y \n",
    "X = np.array(df['preprocessed'])\n",
    "\n",
    "y = np.array(df['overall'])"
   ]
  },
  {
   "cell_type": "markdown",
   "metadata": {
    "colab_type": "text",
    "id": "-eDPUvzOufZt"
   },
   "source": [
    "Let's look at the data and its distirbution:"
   ]
  },
  {
   "cell_type": "code",
   "execution_count": 14,
   "metadata": {
    "colab": {
     "base_uri": "https://localhost:8080/",
     "height": 102
    },
    "colab_type": "code",
    "id": "9-qdBkzaunGk",
    "outputId": "170ad6a5-393d-477d-aea4-a7802ded29e1"
   },
   "outputs": [
    {
     "name": "stdout",
     "output_type": "stream",
     "text": [
      "Strongly Negative = 3.2272430506613166\n",
      "Weakly Negative = 3.144659526722904\n",
      "Neutral = 6.927503772467258\n",
      "Weakly Positive = 16.76142873820158\n",
      "Strongly Positive = 69.93916491194693\n"
     ]
    }
   ],
   "source": [
    "#  Know that how is our data distirbuted \n",
    "print(\"Strongly Negative = {}\".format(len(y[y==1])/len(y) * 100)) \n",
    "print(\"Weakly Negative = {}\".format(len(y[y==2])/len(y) * 100)) \n",
    "print(\"Neutral = {}\".format(len(y[y==3])/len(y) * 100)) \n",
    "print(\"Weakly Positive = {}\".format(len(y[y==4])/len(y) * 100)) \n",
    "print(\"Strongly Positive = {}\".format(len(y[y==5])/len(y) * 100)) "
   ]
  },
  {
   "cell_type": "markdown",
   "metadata": {
    "colab_type": "text",
    "id": "ej45hcej2JWZ"
   },
   "source": [
    "\n",
    "\n",
    "In this part of code we are going to fing the average reviewText sizes to assign it to max_length."
   ]
  },
  {
   "cell_type": "code",
   "execution_count": 15,
   "metadata": {
    "colab": {
     "base_uri": "https://localhost:8080/",
     "height": 282
    },
    "colab_type": "code",
    "id": "ya5akwL3hEcT",
    "outputId": "64002f73-547f-4c7a-eb2c-154e40b773d8"
   },
   "outputs": [
    {
     "data": {
      "text/plain": [
       "<matplotlib.axes._subplots.AxesSubplot at 0x7f54028f8e48>"
      ]
     },
     "execution_count": 15,
     "metadata": {
      "tags": []
     },
     "output_type": "execute_result"
    },
    {
     "data": {
      "image/png": "[encoded data removed]",
      "text/plain": [
       "<Figure size 432x288 with 1 Axes>"
      ]
     },
     "metadata": {
      "needs_background": "light",
      "tags": []
     },
     "output_type": "display_data"
    }
   ],
   "source": [
    "lens = [[np.array(review).size ] for review in X]\n",
    "sns.distplot(lens)"
   ]
  },
  {
   "cell_type": "markdown",
   "metadata": {
    "colab_type": "text",
    "id": "UfJ1bw9AhDn7"
   },
   "source": [
    "As we see in the previous file , len = 512 seems to be good "
   ]
  },
  {
   "cell_type": "code",
   "execution_count": 16,
   "metadata": {
    "colab": {
     "base_uri": "https://localhost:8080/",
     "height": 66,
     "referenced_widgets": [
      "d4eab538602f4a398dc06fb551659cf5",
      "e105747e328b4a25abd8e432ab71d6f5",
      "5be4ba625e654d87b2c49bec169725cc",
      "0ba4e7539792461e946866aaf1c73958",
      "2af9b14852f949c98273b87bab2341df",
      "6d873b215a9f43a388a5a933af970e30",
      "1e15b376118b46389372cda90468959d",
      "1c2ffe4cb9b74f89b4f22efe29ce782e"
     ]
    },
    "colab_type": "code",
    "id": "zYquXC1XulL1",
    "outputId": "b28a744c-e71d-4daf-82e5-d82b3b4e7cd8"
   },
   "outputs": [
    {
     "data": {
      "application/vnd.jupyter.widget-view+json": {
       "model_id": "d4eab538602f4a398dc06fb551659cf5",
       "version_major": 2,
       "version_minor": 0
      },
      "text/plain": [
       "HBox(children=(FloatProgress(value=0.0, description='Downloading', max=213450.0, style=ProgressStyle(descripti…"
      ]
     },
     "metadata": {
      "tags": []
     },
     "output_type": "display_data"
    },
    {
     "name": "stdout",
     "output_type": "stream",
     "text": [
      "\n"
     ]
    }
   ],
   "source": [
    "PRE_TRAINED_MODEL_NAME = 'bert-base-cased'\n",
    "tokenizer = BertTokenizer.from_pretrained(PRE_TRAINED_MODEL_NAME)\n",
    "XP = np.empty((len(X),512)) \n",
    "\n",
    "\n",
    "for i in range(len(X)):\n",
    "  XP[i] = tokenizer.encode_plus(\n",
    "      X[i],\n",
    "    max_length=512,\n",
    "    add_special_tokens=True, # Add '[CLS]' and '[SEP]'\n",
    "    return_token_type_ids=False,\n",
    "    pad_to_max_length=True,\n",
    "    return_attention_mask=False,\n",
    "    truncation = True,\n",
    "    )['input_ids']\n",
    "X = XP\n"
   ]
  },
  {
   "cell_type": "markdown",
   "metadata": {
    "colab_type": "text",
    "id": "jg3dQ2c4o7wz"
   },
   "source": [
    "\n",
    "\n",
    "---\n",
    "\n",
    "\n",
    "---\n",
    "\n",
    "## **Data Splitting**\n",
    "In this part of program, we want to split the data into two parts for training and testing our models.\n"
   ]
  },
  {
   "cell_type": "markdown",
   "metadata": {
    "colab_type": "text",
    "id": "PDdtXzBxfKbf"
   },
   "source": [
    "**Split data to train set and test set**\n",
    "> We will split data into train set and test set with the test size 25 % ."
   ]
  },
  {
   "cell_type": "code",
   "execution_count": 17,
   "metadata": {
    "colab": {},
    "colab_type": "code",
    "id": "KDddF2V3fgM0"
   },
   "outputs": [],
   "source": [
    "# Splitting the data into two parts using scikitlearn \n",
    "X_train, X_test, y_train, y_test = train_test_split(X, y, test_size=0.25)"
   ]
  },
  {
   "cell_type": "markdown",
   "metadata": {
    "colab_type": "text",
    "id": "XKDomerrPECy"
   },
   "source": [
    "\n",
    "\n",
    "---\n",
    "\n",
    "\n",
    "\n",
    "---\n",
    "\n",
    "# **Classification:**\n",
    "1.   Naive Baysean \n",
    "2.   SVM\n",
    "3. Logistic Regression\n"
   ]
  },
  {
   "cell_type": "markdown",
   "metadata": {
    "colab_type": "text",
    "id": "qw19NdcptxYo"
   },
   "source": [
    "\n",
    "\n",
    "\n",
    "---\n",
    "> ## **1. Naive Bayesian Model:**\n",
    "In this section, we want to make a model using scikit learn naive baysean. \n"
   ]
  },
  {
   "cell_type": "code",
   "execution_count": 18,
   "metadata": {
    "colab": {
     "base_uri": "https://localhost:8080/",
     "height": 34
    },
    "colab_type": "code",
    "id": "mYcKO84auAvB",
    "outputId": "0db652f6-d6db-4699-eb93-74cd82f48f24"
   },
   "outputs": [
    {
     "data": {
      "text/plain": [
       "GaussianNB(priors=None, var_smoothing=1e-09)"
      ]
     },
     "execution_count": 18,
     "metadata": {
      "tags": []
     },
     "output_type": "execute_result"
    }
   ],
   "source": [
    "#Create a Gaussian Classifier\n",
    "NB_model = GaussianNB()\n",
    "\n",
    "# Train the model using the training sets\n",
    "NB_model.fit(X_train,y_train)"
   ]
  },
  {
   "cell_type": "markdown",
   "metadata": {
    "colab_type": "text",
    "id": "0D_n935P_-qn"
   },
   "source": [
    "\n",
    "\n",
    "\n",
    "\n",
    "---\n",
    "> ## **2. SVM Model:**\n",
    "In this section, we want to make a Support Vector Machine model using scikit learn library.\n"
   ]
  },
  {
   "cell_type": "code",
   "execution_count": 19,
   "metadata": {
    "colab": {
     "base_uri": "https://localhost:8080/",
     "height": 187
    },
    "colab_type": "code",
    "id": "PdAV4dpXbkpf",
    "outputId": "44ef4a90-e329-4601-9faa-8806aaf21099"
   },
   "outputs": [
    {
     "data": {
      "text/plain": [
       "BaggingClassifier(base_estimator=SVC(C=1.0, break_ties=False, cache_size=200,\n",
       "                                     class_weight=None, coef0=0.0,\n",
       "                                     decision_function_shape='ovr', degree=3,\n",
       "                                     gamma='scale', kernel='rbf', max_iter=-1,\n",
       "                                     probability=False, random_state=None,\n",
       "                                     shrinking=True, tol=0.001, verbose=False),\n",
       "                  bootstrap=True, bootstrap_features=False, max_features=1.0,\n",
       "                  max_samples=0.1, n_estimators=10, n_jobs=None,\n",
       "                  oob_score=False, random_state=None, verbose=0,\n",
       "                  warm_start=False)"
      ]
     },
     "execution_count": 19,
     "metadata": {
      "tags": []
     },
     "output_type": "execute_result"
    }
   ],
   "source": [
    "n_estimators = 10\n",
    "clf = BaggingClassifier(SVC(kernel='rbf'), max_samples=1.0 / n_estimators, n_estimators=n_estimators)\n",
    "clf.fit(X_train, y_train)"
   ]
  },
  {
   "cell_type": "markdown",
   "metadata": {
    "colab_type": "text",
    "id": "8fL_mkBWFRVT"
   },
   "source": [
    "\n",
    "\n",
    "---\n",
    "> ## **3. Logistic Regression Model:**\n",
    "In this section, we want to make a logistic regression model using scikit learn library. \n"
   ]
  },
  {
   "cell_type": "code",
   "execution_count": 20,
   "metadata": {
    "colab": {
     "base_uri": "https://localhost:8080/",
     "height": 238
    },
    "colab_type": "code",
    "id": "frYOBt4LFU_D",
    "outputId": "1094ec7a-563b-435e-bd1f-e320dc7aa896"
   },
   "outputs": [
    {
     "name": "stderr",
     "output_type": "stream",
     "text": [
      "/usr/local/lib/python3.6/dist-packages/sklearn/linear_model/_logistic.py:940: ConvergenceWarning: lbfgs failed to converge (status=1):\n",
      "STOP: TOTAL NO. of ITERATIONS REACHED LIMIT.\n",
      "\n",
      "Increase the number of iterations (max_iter) or scale the data as shown in:\n",
      "    https://scikit-learn.org/stable/modules/preprocessing.html\n",
      "Please also refer to the documentation for alternative solver options:\n",
      "    https://scikit-learn.org/stable/modules/linear_model.html#logistic-regression\n",
      "  extra_warning_msg=_LOGISTIC_SOLVER_CONVERGENCE_MSG)\n"
     ]
    },
    {
     "data": {
      "text/plain": [
       "LogisticRegression(C=1.0, class_weight=None, dual=False, fit_intercept=True,\n",
       "                   intercept_scaling=1, l1_ratio=None, max_iter=100,\n",
       "                   multi_class='auto', n_jobs=None, penalty='l2',\n",
       "                   random_state=None, solver='lbfgs', tol=0.0001, verbose=0,\n",
       "                   warm_start=False)"
      ]
     },
     "execution_count": 20,
     "metadata": {
      "tags": []
     },
     "output_type": "execute_result"
    }
   ],
   "source": [
    "#Create a Logistic Regression Classifier\n",
    "LR_model = LogisticRegression()\n",
    "\n",
    "#Train the model using the training sets\n",
    "LR_model.fit(X_train, y_train)"
   ]
  },
  {
   "cell_type": "markdown",
   "metadata": {
    "colab_type": "text",
    "id": "fmnzahSIIXaI"
   },
   "source": [
    "\n",
    "\n",
    "---\n",
    "\n",
    "\n",
    "\n",
    "---\n",
    "\n",
    "## **Model Evaluation:**\n",
    "> In this section, we are going to evaluate the models which we trained using test set which we made in pervious part. We will also make a confusion matrix for each model."
   ]
  },
  {
   "cell_type": "markdown",
   "metadata": {
    "colab_type": "text",
    "id": "HUVTpRZOI6J-"
   },
   "source": [
    "\n",
    "\n",
    "---\n",
    "\n",
    "\n",
    "> ### **1. Naive Baysian Model Evaluation:**"
   ]
  },
  {
   "cell_type": "code",
   "execution_count": 21,
   "metadata": {
    "colab": {
     "base_uri": "https://localhost:8080/",
     "height": 136
    },
    "colab_type": "code",
    "id": "Vj86gS1uIWpZ",
    "outputId": "ef06678e-8c48-4baf-8d50-c48bfb99398b"
   },
   "outputs": [
    {
     "name": "stdout",
     "output_type": "stream",
     "text": [
      "Confusion Matrix for Naive Baysean Model is :\n",
      "[[ 1898     5     1    14     0]\n",
      " [ 1798    11     5    20     0]\n",
      " [ 3812     9     6    56     0]\n",
      " [ 9449    26    16   118     2]\n",
      " [40149    63    37   307    19]]\n",
      "F1_score for Naive Baysean is 0.03548883623596963.\n"
     ]
    }
   ],
   "source": [
    "#Predict Output\n",
    "y_pred_NB = NB_model.predict(X_test)\n",
    "\n",
    "# making confusion matrix\n",
    "NB_cm = metrics.confusion_matrix(y_test, y_pred_NB)\n",
    "\n",
    "# calculating f1 score\n",
    "NB_f1 = metrics.f1_score(y_test, y_pred_NB, average = \"micro\")\n",
    "print(\"Confusion Matrix for Naive Baysean Model is :\\n{}\\nF1_score for Naive Baysean is {}.\".format(NB_cm, NB_f1))"
   ]
  },
  {
   "cell_type": "markdown",
   "metadata": {
    "colab_type": "text",
    "id": "nAdHegQtKurH"
   },
   "source": [
    "---\n",
    "> ### **2. SVM Model Evaluation:**"
   ]
  },
  {
   "cell_type": "code",
   "execution_count": 34,
   "metadata": {
    "colab": {
     "base_uri": "https://localhost:8080/",
     "height": 136
    },
    "colab_type": "code",
    "id": "TlRPyXAfKzWt",
    "outputId": "2619a013-64e0-42a6-8810-77f7cc9ca071"
   },
   "outputs": [
    {
     "name": "stdout",
     "output_type": "stream",
     "text": [
      "Confusion Matrix for Support Vector Machine Model is :\n",
      "[[    0     0     0     0   657]\n",
      " [    0     0     0     0   621]\n",
      " [    0     0     0     0  1407]\n",
      " [    0     0     0     0  3330]\n",
      " [    0     0     0     0 13985]]\n",
      "F1_score for SVM is 0.6992499999999999.\n"
     ]
    }
   ],
   "source": [
    "SVM_cm = []\n",
    "SVM_f1 = []\n",
    "\n",
    "for i in range(20): \n",
    "    #Predict Output\n",
    "    y_pred_SVM = clf.predict(X_test[i * 1000:i * 1000 + 1000])\n",
    "\n",
    "    # making confusion matrix\n",
    "    SVM_cm.append(metrics.confusion_matrix(y_test[i * 1000:i * 1000 + 1000], y_pred_SVM))\n",
    "\n",
    "    # calculating f1 score\n",
    "    SVM_f1.append(metrics.f1_score(y_test[i * 1000:i * 1000 + 1000], y_pred_SVM, average = \"micro\"))\n",
    "for i in range(20): \n",
    "  if i == 0 : \n",
    "    SVM_cm_all = SVM_cm[i]\n",
    "  else: \n",
    "    SVM_cm_all += SVM_cm[i] \n",
    "\n",
    "SVM_f1_all = 0\n",
    "for i in range(20):\n",
    "  SVM_f1_all += SVM_f1[i]\n",
    "\n",
    "SVM_f1_all= SVM_f1_all/20\n",
    "\n",
    "print(\"Confusion Matrix for Support Vector Machine Model is :\\n{}\\nF1_score for SVM is {}.\".format(SVM_cm_all, SVM_f1_all))"
   ]
  },
  {
   "cell_type": "markdown",
   "metadata": {
    "colab_type": "text",
    "id": "zu9yXlQxK-Kt"
   },
   "source": [
    "\n",
    "\n",
    "---\n",
    "\n",
    "\n",
    "> ### **3. Logistic Regression Model Evaluation:**"
   ]
  },
  {
   "cell_type": "code",
   "execution_count": 23,
   "metadata": {
    "colab": {
     "base_uri": "https://localhost:8080/",
     "height": 136
    },
    "colab_type": "code",
    "id": "NP1j4HXILKs0",
    "outputId": "c05eed93-4ecb-4133-834a-2661a2d01b12"
   },
   "outputs": [
    {
     "name": "stdout",
     "output_type": "stream",
     "text": [
      "Confusion Matrix for Logistic Regression Model is :\n",
      "[[    0     1     2    22  1893]\n",
      " [    1     0     1    23  1809]\n",
      " [    5     2     4    64  3808]\n",
      " [   11    12    10   115  9463]\n",
      " [   17    23    36   295 40204]]\n",
      "F1_score for Logistic Regression is 0.6973763857422044.\n"
     ]
    }
   ],
   "source": [
    "#Predict Output\n",
    "y_pred_LR = LR_model.predict(X_test)\n",
    "\n",
    "# making confusion matrix\n",
    "LR_cm = metrics.confusion_matrix(y_test, y_pred_LR)\n",
    "\n",
    "# calculating f1 score \n",
    "LR_f1 = metrics.f1_score(y_test, y_pred_LR, average = \"micro\")\n",
    "\n",
    "mask = y_test == y_pred_LR\n",
    "acc = len(mask[mask==True])/len(mask)\n",
    "\n",
    "print(\"Confusion Matrix for Logistic Regression Model is :\\n{}\\nF1_score for Logistic Regression is {}.\".format(LR_cm, LR_f1))\n"
   ]
  },
  {
   "cell_type": "markdown",
   "metadata": {
    "colab_type": "text",
    "id": "tHUQYN04LVwb"
   },
   "source": [
    "\n",
    "\n",
    "---\n",
    "\n",
    "\n",
    "\n",
    "---\n",
    "\n"
   ]
  },
  {
   "cell_type": "markdown",
   "metadata": {
    "colab_type": "text",
    "id": "eiVYve6rRN7z"
   },
   "source": [
    "# **Model Illustrarion:**"
   ]
  },
  {
   "cell_type": "code",
   "execution_count": 35,
   "metadata": {
    "colab": {
     "base_uri": "https://localhost:8080/",
     "height": 421
    },
    "colab_type": "code",
    "id": "g4m7vCsQRSu9",
    "outputId": "45a8f543-7d1c-43b9-f9f2-9fa9b3186e1d"
   },
   "outputs": [
    {
     "data": {
      "text/plain": [
       "<BarContainer object of 3 artists>"
      ]
     },
     "execution_count": 35,
     "metadata": {
      "tags": []
     },
     "output_type": "execute_result"
    },
    {
     "data": {
      "image/png": "[encoded data removed]",
      "text/plain": [
       "<Figure size 432x432 with 1 Axes>"
      ]
     },
     "metadata": {
      "tags": []
     },
     "output_type": "display_data"
    }
   ],
   "source": [
    "plt.figure(figsize=(6,6), facecolor='white')\n",
    "plt.title(\"Comparession\")\n",
    "plt.xlabel(\"Classification Methods\")\n",
    "plt.ylabel(\"F1-Score\")\n",
    "plt.bar(x = [\"Naive Baysian\",\"SVM\",\"Logistic Regression\"], height = [NB_f1,SVM_f1_all,LR_f1], color = ['cyan', 'red', 'green'])"
   ]
  }
 ],
 "metadata": {
  "colab": {
   "collapsed_sections": [],
   "name": "DM Final Project.ipynb",
   "provenance": []
  },
  "kernelspec": {
   "display_name": "Python 3",
   "language": "python",
   "name": "python3"
  },
  "language_info": {
   "codemirror_mode": {
    "name": "ipython",
    "version": 3
   },
   "file_extension": ".py",
   "mimetype": "text/x-python",
   "name": "python",
   "nbconvert_exporter": "python",
   "pygments_lexer": "ipython3",
   "version": "3.7.0"
  },
  "widgets": {
   "application/vnd.jupyter.widget-state+json": {
    "0ba4e7539792461e946866aaf1c73958": {
     "model_module": "@jupyter-widgets/controls",
     "model_name": "HTMLModel",
     "state": {
      "_dom_classes": [],
      "_model_module": "@jupyter-widgets/controls",
      "_model_module_version": "1.5.0",
      "_model_name": "HTMLModel",
      "_view_count": null,
      "_view_module": "@jupyter-widgets/controls",
      "_view_module_version": "1.5.0",
      "_view_name": "HTMLView",
      "description": "",
      "description_tooltip": null,
      "layout": "IPY_MODEL_1c2ffe4cb9b74f89b4f22efe29ce782e",
      "placeholder": "​",
      "style": "IPY_MODEL_1e15b376118b46389372cda90468959d",
      "value": " 213k/213k [00:00&lt;00:00, 1.26MB/s]"
     }
    },
    "1c2ffe4cb9b74f89b4f22efe29ce782e": {
     "model_module": "@jupyter-widgets/base",
     "model_name": "LayoutModel",
     "state": {
      "_model_module": "@jupyter-widgets/base",
      "_model_module_version": "1.2.0",
      "_model_name": "LayoutModel",
      "_view_count": null,
      "_view_module": "@jupyter-widgets/base",
      "_view_module_version": "1.2.0",
      "_view_name": "LayoutView",
      "align_content": null,
      "align_items": null,
      "align_self": null,
      "border": null,
      "bottom": null,
      "display": null,
      "flex": null,
      "flex_flow": null,
      "grid_area": null,
      "grid_auto_columns": null,
      "grid_auto_flow": null,
      "grid_auto_rows": null,
      "grid_column": null,
      "grid_gap": null,
      "grid_row": null,
      "grid_template_areas": null,
      "grid_template_columns": null,
      "grid_template_rows": null,
      "height": null,
      "justify_content": null,
      "justify_items": null,
      "left": null,
      "margin": null,
      "max_height": null,
      "max_width": null,
      "min_height": null,
      "min_width": null,
      "object_fit": null,
      "object_position": null,
      "order": null,
      "overflow": null,
      "overflow_x": null,
      "overflow_y": null,
      "padding": null,
      "right": null,
      "top": null,
      "visibility": null,
      "width": null
     }
    },
    "1e15b376118b46389372cda90468959d": {
     "model_module": "@jupyter-widgets/controls",
     "model_name": "DescriptionStyleModel",
     "state": {
      "_model_module": "@jupyter-widgets/controls",
      "_model_module_version": "1.5.0",
      "_model_name": "DescriptionStyleModel",
      "_view_count": null,
      "_view_module": "@jupyter-widgets/base",
      "_view_module_version": "1.2.0",
      "_view_name": "StyleView",
      "description_width": ""
     }
    },
    "2af9b14852f949c98273b87bab2341df": {
     "model_module": "@jupyter-widgets/controls",
     "model_name": "ProgressStyleModel",
     "state": {
      "_model_module": "@jupyter-widgets/controls",
      "_model_module_version": "1.5.0",
      "_model_name": "ProgressStyleModel",
      "_view_count": null,
      "_view_module": "@jupyter-widgets/base",
      "_view_module_version": "1.2.0",
      "_view_name": "StyleView",
      "bar_color": null,
      "description_width": "initial"
     }
    },
    "5be4ba625e654d87b2c49bec169725cc": {
     "model_module": "@jupyter-widgets/controls",
     "model_name": "FloatProgressModel",
     "state": {
      "_dom_classes": [],
      "_model_module": "@jupyter-widgets/controls",
      "_model_module_version": "1.5.0",
      "_model_name": "FloatProgressModel",
      "_view_count": null,
      "_view_module": "@jupyter-widgets/controls",
      "_view_module_version": "1.5.0",
      "_view_name": "ProgressView",
      "bar_style": "success",
      "description": "Downloading: 100%",
      "description_tooltip": null,
      "layout": "IPY_MODEL_6d873b215a9f43a388a5a933af970e30",
      "max": 213450,
      "min": 0,
      "orientation": "horizontal",
      "style": "IPY_MODEL_2af9b14852f949c98273b87bab2341df",
      "value": 213450
     }
    },
    "6d873b215a9f43a388a5a933af970e30": {
     "model_module": "@jupyter-widgets/base",
     "model_name": "LayoutModel",
     "state": {
      "_model_module": "@jupyter-widgets/base",
      "_model_module_version": "1.2.0",
      "_model_name": "LayoutModel",
      "_view_count": null,
      "_view_module": "@jupyter-widgets/base",
      "_view_module_version": "1.2.0",
      "_view_name": "LayoutView",
      "align_content": null,
      "align_items": null,
      "align_self": null,
      "border": null,
      "bottom": null,
      "display": null,
      "flex": null,
      "flex_flow": null,
      "grid_area": null,
      "grid_auto_columns": null,
      "grid_auto_flow": null,
      "grid_auto_rows": null,
      "grid_column": null,
      "grid_gap": null,
      "grid_row": null,
      "grid_template_areas": null,
      "grid_template_columns": null,
      "grid_template_rows": null,
      "height": null,
      "justify_content": null,
      "justify_items": null,
      "left": null,
      "margin": null,
      "max_height": null,
      "max_width": null,
      "min_height": null,
      "min_width": null,
      "object_fit": null,
      "object_position": null,
      "order": null,
      "overflow": null,
      "overflow_x": null,
      "overflow_y": null,
      "padding": null,
      "right": null,
      "top": null,
      "visibility": null,
      "width": null
     }
    },
    "d4eab538602f4a398dc06fb551659cf5": {
     "model_module": "@jupyter-widgets/controls",
     "model_name": "HBoxModel",
     "state": {
      "_dom_classes": [],
      "_model_module": "@jupyter-widgets/controls",
      "_model_module_version": "1.5.0",
      "_model_name": "HBoxModel",
      "_view_count": null,
      "_view_module": "@jupyter-widgets/controls",
      "_view_module_version": "1.5.0",
      "_view_name": "HBoxView",
      "box_style": "",
      "children": [
       "IPY_MODEL_5be4ba625e654d87b2c49bec169725cc",
       "IPY_MODEL_0ba4e7539792461e946866aaf1c73958"
      ],
      "layout": "IPY_MODEL_e105747e328b4a25abd8e432ab71d6f5"
     }
    },
    "e105747e328b4a25abd8e432ab71d6f5": {
     "model_module": "@jupyter-widgets/base",
     "model_name": "LayoutModel",
     "state": {
      "_model_module": "@jupyter-widgets/base",
      "_model_module_version": "1.2.0",
      "_model_name": "LayoutModel",
      "_view_count": null,
      "_view_module": "@jupyter-widgets/base",
      "_view_module_version": "1.2.0",
      "_view_name": "LayoutView",
      "align_content": null,
      "align_items": null,
      "align_self": null,
      "border": null,
      "bottom": null,
      "display": null,
      "flex": null,
      "flex_flow": null,
      "grid_area": null,
      "grid_auto_columns": null,
      "grid_auto_flow": null,
      "grid_auto_rows": null,
      "grid_column": null,
      "grid_gap": null,
      "grid_row": null,
      "grid_template_areas": null,
      "grid_template_columns": null,
      "grid_template_rows": null,
      "height": null,
      "justify_content": null,
      "justify_items": null,
      "left": null,
      "margin": null,
      "max_height": null,
      "max_width": null,
      "min_height": null,
      "min_width": null,
      "object_fit": null,
      "object_position": null,
      "order": null,
      "overflow": null,
      "overflow_x": null,
      "overflow_y": null,
      "padding": null,
      "right": null,
      "top": null,
      "visibility": null,
      "width": null
     }
    }
   }
  }
 },
 "nbformat": 4,
 "nbformat_minor": 1
}
